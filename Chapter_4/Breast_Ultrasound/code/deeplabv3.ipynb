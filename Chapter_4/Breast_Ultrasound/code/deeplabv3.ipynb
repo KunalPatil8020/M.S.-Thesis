{
 "cells": [
  {
   "cell_type": "code",
   "execution_count": null,
   "metadata": {},
   "outputs": [],
   "source": [
    "import torch\n",
    "import torch.nn as nn\n",
    "import torch.optim as optim\n",
    "from torch.utils.data import Dataset, DataLoader, random_split\n",
    "from torchvision import transforms, models\n",
    "from torchvision.models.segmentation import deeplabv3_resnet50\n",
    "from PIL import Image\n",
    "import os\n",
    "import numpy as np\n",
    "from tqdm import tqdm"
   ]
  },
  {
   "cell_type": "code",
   "execution_count": null,
   "metadata": {},
   "outputs": [],
   "source": [
    "class MedicalImageDataset(Dataset):\n",
    "    def __init__(self, image_dir, transform=None):\n",
    "        self.image_dir = image_dir\n",
    "        self.transform = transform\n",
    "        self.images = os.listdir(image_dir)\n",
    "\n",
    "    def __len__(self):\n",
    "        return len(self.images)\n",
    "\n",
    "    def __getitem__(self, idx):\n",
    "        img_path = os.path.join(self.image_dir, self.images[idx])\n",
    "        mask_dir = self.image_dir.replace('imgs', 'masks')\n",
    "        mask_file=self.images[idx].split('.')[0]+'_mask.png'\n",
    "        mask_path = os.path.join(mask_dir, mask_file)\n",
    "        image = Image.open(img_path).convert(\"RGB\")\n",
    "        mask = Image.open(mask_path).convert(\"L\")\n",
    "\n",
    "        if self.transform:\n",
    "            image = self.transform(image)\n",
    "            mask = self.transform(mask)\n",
    "\n",
    "        return image, mask\n",
    "\n",
    "# Define the transform\n",
    "transform = transforms.Compose([\n",
    "    transforms.Resize((512, 512)),\n",
    "    transforms.ToTensor(),\n",
    "])\n",
    "\n",
    "# Create dataset and dataloaders\n",
    "image_dataset = MedicalImageDataset('/media/rohit/mirlproject2/fetal head circumference/Breast_Ultrasound/train/imgs', transform=transform)\n",
    "\n",
    "# Calculate lengths for the splits\n",
    "train_size = int(0.95 * len(image_dataset))\n",
    "val_size = len(image_dataset) - train_size\n",
    "\n",
    "# Split the dataset\n",
    "train_dataset, val_dataset = random_split(image_dataset, [train_size, val_size])\n",
    "\n",
    "train_loader = DataLoader(train_dataset, batch_size=8, shuffle=True)\n",
    "val_loader = DataLoader(val_dataset, batch_size=8, shuffle=False)"
   ]
  },
  {
   "cell_type": "code",
   "execution_count": null,
   "metadata": {},
   "outputs": [],
   "source": [
    "# Define Dice Loss\n",
    "def dice_loss(inputs, targets, smooth=1):\n",
    "    inputs = inputs.view(-1)\n",
    "    targets = targets.view(-1)\n",
    "    intersection = (inputs * targets).sum()\n",
    "    dice = (2. * intersection + smooth) / (inputs.sum() + targets.sum() + smooth)\n",
    "    return 1 - dice"
   ]
  },
  {
   "cell_type": "code",
   "execution_count": null,
   "metadata": {},
   "outputs": [],
   "source": [
    "# Define the DeepLab v3 model\n",
    "model = deeplabv3_resnet50(pretrained=True)\n",
    "model.classifier[4] = nn.Conv2d(256, 1, kernel_size=1)  # Adjust the final layer for single-class segmentation"
   ]
  },
  {
   "cell_type": "code",
   "execution_count": null,
   "metadata": {},
   "outputs": [],
   "source": [
    "device = 'cuda' if torch.cuda.is_available() else 'cpu'\n",
    "model = model.to(device)"
   ]
  },
  {
   "cell_type": "code",
   "execution_count": null,
   "metadata": {},
   "outputs": [],
   "source": [
    "optimizer = optim.Adam(model.parameters(), lr=1e-4, weight_decay=1e-3)\n",
    "scheduler = torch.optim.lr_scheduler.ReduceLROnPlateau(optimizer, mode='min', factor=0.1, patience=5, verbose=True)\n",
    "num_epochs = 100"
   ]
  },
  {
   "cell_type": "code",
   "execution_count": null,
   "metadata": {},
   "outputs": [],
   "source": [
    "# Define EarlyStopping class\n",
    "class EarlyStopping:\n",
    "    def __init__(self, patience=7, verbose=False, delta=0, path='checkpoint.pth', trace_func=print):\n",
    "        self.patience = patience\n",
    "        self.verbose = verbose\n",
    "        self.counter = 0\n",
    "        self.best_score = None\n",
    "        self.early_stop = False\n",
    "        self.val_loss_min = np.Inf\n",
    "        self.delta = delta\n",
    "        self.path = path\n",
    "        self.trace_func = trace_func\n",
    "\n",
    "    def __call__(self, val_loss, model):\n",
    "        score = -val_loss\n",
    "\n",
    "        if self.best_score is None:\n",
    "            self.best_score = score\n",
    "            self.save_checkpoint(val_loss, model)\n",
    "        elif score < self.best_score + self.delta:\n",
    "            self.counter += 1\n",
    "            if self.verbose:\n",
    "                self.trace_func(f'EarlyStopping counter: {self.counter} out of {self.patience}')\n",
    "            if self.counter >= self.patience:\n",
    "                self.early_stop = True\n",
    "        else:\n",
    "            self.best_score = score\n",
    "            self.save_checkpoint(val_loss, model)\n",
    "            self.counter = 0\n",
    "\n",
    "    def save_checkpoint(self, val_loss, model):\n",
    "        if self.verbose:\n",
    "            self.trace_func(f'Validation loss decreased ({self.val_loss_min:.6f} --> {val_loss:.6f}).  Saving model ...')\n",
    "        torch.save(model.state_dict(), self.path)\n",
    "        self.val_loss_min = val_loss\n",
    "\n",
    "early_stopping = EarlyStopping(patience=10, verbose=True, path='/media/rohit/mirlproject2/fetal head circumference/Breast_Ultrasound/weights/deeplabv3_best_model.pth')"
   ]
  },
  {
   "cell_type": "code",
   "execution_count": null,
   "metadata": {},
   "outputs": [],
   "source": [
    "for epoch in range(num_epochs):\n",
    "    model.train()\n",
    "    running_train_loss = 0.0\n",
    "    train_loader_tqdm = tqdm(train_loader, desc=f\"Epoch {epoch+1}/{num_epochs}\", unit=\"batch\")\n",
    "\n",
    "    for images, masks in train_loader_tqdm:\n",
    "        images, masks = images.to(device), masks.to(device)\n",
    "\n",
    "        outputs = model(images)['out']\n",
    "        loss = dice_loss(outputs, masks)\n",
    "\n",
    "        optimizer.zero_grad()\n",
    "        loss.backward()\n",
    "        optimizer.step()\n",
    "\n",
    "        running_train_loss += loss.item()\n",
    "        train_loader_tqdm.set_postfix({\"Train Loss\": running_train_loss / (train_loader_tqdm.n + 1)})\n",
    "\n",
    "    avg_train_loss = running_train_loss / len(train_loader)\n",
    "    print(f'Epoch {epoch+1}, Training Loss: {avg_train_loss:.4f}')\n",
    "\n",
    "    model.eval()\n",
    "    running_val_loss = 0.0\n",
    "    val_loader_tqdm = tqdm(val_loader, desc=f\"Validation {epoch+1}/{num_epochs}\", unit=\"batch\")\n",
    "\n",
    "    with torch.no_grad():\n",
    "        for images, masks in val_loader_tqdm:\n",
    "            images, masks = images.to(device), masks.to(device)\n",
    "\n",
    "            outputs = model(images)['out']\n",
    "            val_loss = dice_loss(outputs, masks)\n",
    "\n",
    "            running_val_loss += val_loss.item()\n",
    "            val_loader_tqdm.set_postfix({\"Val Loss\": running_val_loss / (val_loader_tqdm.n + 1)})\n",
    "\n",
    "    avg_val_loss = running_val_loss / len(val_loader)\n",
    "    print(f'Epoch {epoch+1}, Validation Loss: {avg_val_loss:.4f}')\n",
    "\n",
    "    scheduler.step(avg_val_loss)\n",
    "\n",
    "    early_stopping(avg_val_loss, model)\n",
    "\n",
    "    if early_stopping.early_stop:\n",
    "        print(\"Early stopping\")\n",
    "        break"
   ]
  },
  {
   "cell_type": "code",
   "execution_count": null,
   "metadata": {},
   "outputs": [],
   "source": []
  },
  {
   "attachments": {},
   "cell_type": "markdown",
   "metadata": {},
   "source": [
    "## Test"
   ]
  },
  {
   "cell_type": "code",
   "execution_count": null,
   "metadata": {},
   "outputs": [],
   "source": [
    "import torch\n",
    "import torch.nn as nn\n",
    "import torch.optim as optim\n",
    "from torch.utils.data import Dataset, DataLoader, random_split\n",
    "from torchvision import transforms, models\n",
    "from torchvision.models.segmentation import deeplabv3_resnet50\n",
    "from PIL import Image\n",
    "import os\n",
    "import numpy as np\n",
    "from tqdm import tqdm\n",
    "import matplotlib.pyplot as plt"
   ]
  },
  {
   "cell_type": "code",
   "execution_count": null,
   "metadata": {},
   "outputs": [],
   "source": [
    "def dice_loss(inputs, targets, smooth=1):\n",
    "    inputs = inputs.view(-1)\n",
    "    targets = targets.view(-1)\n",
    "    intersection = (inputs * targets).sum()\n",
    "    dice = (2. * intersection + smooth) / (inputs.sum() + targets.sum() + smooth)\n",
    "    return 1 - dice"
   ]
  },
  {
   "cell_type": "code",
   "execution_count": null,
   "metadata": {},
   "outputs": [],
   "source": [
    "class MedicalImageDataset(Dataset):\n",
    "    def __init__(self, image_dir, transform=None):\n",
    "        self.image_dir = image_dir\n",
    "        self.transform = transform\n",
    "        self.images = os.listdir(image_dir)\n",
    "\n",
    "    def __len__(self):\n",
    "        return len(self.images)\n",
    "\n",
    "    def __getitem__(self, idx):\n",
    "        img_path = os.path.join(self.image_dir, self.images[idx])\n",
    "        mask_dir = self.image_dir.replace('imgs', 'masks')\n",
    "        mask_file=self.images[idx].split('.')[0]+'_mask.png'\n",
    "        mask_path = os.path.join(mask_dir, mask_file)\n",
    "        image = Image.open(img_path).convert(\"RGB\")\n",
    "        mask = Image.open(mask_path).convert(\"L\")\n",
    "\n",
    "        if self.transform:\n",
    "            image = self.transform(image)\n",
    "            mask = self.transform(mask)\n",
    "\n",
    "        return image, mask\n",
    "\n",
    "# Define the transform\n",
    "transform = transforms.Compose([\n",
    "    transforms.Resize((512, 512)),\n",
    "    transforms.ToTensor(),\n",
    "])\n",
    "\n",
    "test_dataset = MedicalImageDataset('/media/rohit/mirlproject2/fetal head circumference/Breast_Ultrasound/test/imgs', transform=transform)"
   ]
  },
  {
   "cell_type": "code",
   "execution_count": null,
   "metadata": {},
   "outputs": [],
   "source": [
    "test_loader = DataLoader(test_dataset, batch_size=1, shuffle=False)\n",
    "len(test_loader)"
   ]
  },
  {
   "cell_type": "code",
   "execution_count": null,
   "metadata": {},
   "outputs": [],
   "source": [
    "device = 'cuda' if torch.cuda.is_available() else 'cpu'\n",
    "model = deeplabv3_resnet50(pretrained=True)\n",
    "model.classifier[4] = nn.Conv2d(256, 1, kernel_size=1) \n",
    "model = model.to(device)"
   ]
  },
  {
   "cell_type": "code",
   "execution_count": null,
   "metadata": {},
   "outputs": [],
   "source": [
    "modelPath = '/media/rohit/mirlproject2/fetal head circumference/Breast_Ultrasound/weights/deeplabv3_best_model.pth'\n",
    "state_dict = torch.load(modelPath)\n",
    "if \"model_weight\" in state_dict:\n",
    "    model.load_state_dict(state_dict[\"model_weight\"], strict=False)\n",
    "else:\n",
    "    model.load_state_dict(state_dict, strict=False)\n",
    "\n",
    "model.to(device)"
   ]
  },
  {
   "cell_type": "code",
   "execution_count": null,
   "metadata": {},
   "outputs": [],
   "source": [
    "model.eval()\n",
    "loss_fn = dice_loss\n",
    "test_loss=[]\n",
    "\n",
    "for images, masks in test_loader:\n",
    "    images, masks = images.to(device), masks.to(device)\n",
    "\n",
    "    outputs = model(images)\n",
    "    val_loss = loss_fn(outputs, masks)\n",
    "\n",
    "    test_loss.append(val_loss.item())\n",
    "\n",
    "fig,axs=plt.subplots(1,3, figsize=(15,10))\n",
    "axs[0].imshow(images[0][0].cpu().detach().numpy())\n",
    "#axs[0].set_title(str(num))\n",
    "axs[0].axis('off')\n",
    "\n",
    "axs[1].imshow(masks[0][0].cpu().detach().numpy())\n",
    "axs[1].set_title(\"Ground truth\")\n",
    "axs[1].axis('off')\n",
    "\n",
    "axs[2].imshow(outputs[0][0].cpu().detach().numpy())\n",
    "axs[2].set_title(\"Predicted\")\n",
    "axs[2].axis('off')\n",
    "\n",
    "plt.show()"
   ]
  },
  {
   "cell_type": "code",
   "execution_count": null,
   "metadata": {},
   "outputs": [],
   "source": [
    "from statistics import mean\n",
    "\n",
    "mean(test_loss)"
   ]
  },
  {
   "cell_type": "code",
   "execution_count": null,
   "metadata": {},
   "outputs": [],
   "source": []
  },
  {
   "attachments": {},
   "cell_type": "markdown",
   "metadata": {},
   "source": [
    "## compare"
   ]
  },
  {
   "cell_type": "code",
   "execution_count": null,
   "metadata": {},
   "outputs": [],
   "source": [
    "i=0\n",
    "for img,mask in test_loader:\n",
    "    i+=1\n",
    "    if i==8:\n",
    "        break\n",
    "\n",
    "\n",
    "images=img[0]\n",
    "images=images.permute(1,2,0)\n",
    "plt.imshow(images)"
   ]
  },
  {
   "cell_type": "code",
   "execution_count": null,
   "metadata": {},
   "outputs": [],
   "source": [
    "gt=mask[0]\n",
    "gt=gt.permute(1,2,0)\n",
    "plt.imshow(gt)"
   ]
  },
  {
   "cell_type": "code",
   "execution_count": null,
   "metadata": {},
   "outputs": [],
   "source": [
    "i=0\n",
    "for images, masks in test_loader:\n",
    "    i+=1\n",
    "    if i==8:\n",
    "        break\n",
    "    else:\n",
    "        continue\n",
    "\n",
    "images, masks = images.to(device), masks.to(device)\n",
    "\n",
    "outputs = model(images)\n",
    "val_loss = loss_fn(outputs, masks)\n",
    "\n",
    "print(val_loss.item())\n",
    "\n",
    "img=images[0][0].cpu().detach().numpy()\n",
    "gt=masks[0][0].cpu().detach().numpy()\n",
    "pred=outputs[0][0].cpu().detach().numpy()\n",
    "\n",
    "\n",
    "plt.imshow(img,cmap='gray')\n",
    "plt.imshow(pred,alpha=0.4)\n",
    "\n",
    "plt.title('U-net', fontsize=18)\n",
    "plt.axis('off')\n",
    "\n",
    "plt.show()"
   ]
  }
 ],
 "metadata": {
  "language_info": {
   "name": "python"
  },
  "orig_nbformat": 4
 },
 "nbformat": 4,
 "nbformat_minor": 2
}
