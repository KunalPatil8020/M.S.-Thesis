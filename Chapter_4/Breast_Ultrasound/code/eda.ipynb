{
 "cells": [
  {
   "cell_type": "code",
   "execution_count": 1,
   "metadata": {},
   "outputs": [],
   "source": [
    "import os\n",
    "import shutil\n",
    "import glob"
   ]
  },
  {
   "cell_type": "code",
   "execution_count": 14,
   "metadata": {},
   "outputs": [
    {
     "name": "stdout",
     "output_type": "stream",
     "text": [
      "421\n"
     ]
    },
    {
     "data": {
      "text/plain": [
       "'/media/rohit/mirlproject2/fetal head circumference/Breast_Ultrasound/malignant/malignant (1)_mask.png'"
      ]
     },
     "execution_count": 14,
     "metadata": {},
     "output_type": "execute_result"
    }
   ],
   "source": [
    "paths=sorted(glob.glob('/media/rohit/mirlproject2/fetal head circumference/Breast_Ultrasound/malignant/*'))\n",
    "print(len(paths))\n",
    "paths[1]"
   ]
  },
  {
   "cell_type": "code",
   "execution_count": 15,
   "metadata": {},
   "outputs": [],
   "source": [
    "for path in paths:\n",
    "    if 'mask' in path:\n",
    "        shutil.copy(path,'/media/rohit/mirlproject2/fetal head circumference/Breast_Ultrasound/train/masks')\n",
    "    else:\n",
    "        shutil.copy(path,'/media/rohit/mirlproject2/fetal head circumference/Breast_Ultrasound/train/imgs')"
   ]
  },
  {
   "cell_type": "code",
   "execution_count": 17,
   "metadata": {},
   "outputs": [
    {
     "data": {
      "text/plain": [
       "'/media/rohit/mirlproject2/fetal head circumference/Breast_Ultrasound/train/masks/benign (102)_mask.png'"
      ]
     },
     "execution_count": 17,
     "metadata": {},
     "output_type": "execute_result"
    }
   ],
   "source": [
    "path_masks=sorted(glob.glob('/media/rohit/mirlproject2/fetal head circumference/Breast_Ultrasound/train/masks/*'))\n",
    "path_masks[4]"
   ]
  },
  {
   "cell_type": "code",
   "execution_count": 19,
   "metadata": {},
   "outputs": [
    {
     "ename": "",
     "evalue": "",
     "output_type": "error",
     "traceback": [
      "\u001b[1;31mThe Kernel crashed while executing code in the the current cell or a previous cell. Please review the code in the cell(s) to identify a possible cause of the failure. Click <a href='https://aka.ms/vscodeJupyterKernelCrash'>here</a> for more info. View Jupyter <a href='command:jupyter.viewOutput'>log</a> for further details."
     ]
    }
   ],
   "source": [
    "for path in path_masks:\n",
    "    if '_2' in path:\n",
    "        os.remove(path)\n",
    "        "
   ]
  },
  {
   "cell_type": "code",
   "execution_count": null,
   "metadata": {},
   "outputs": [],
   "source": []
  }
 ],
 "metadata": {
  "kernelspec": {
   "display_name": "head",
   "language": "python",
   "name": "python3"
  },
  "language_info": {
   "codemirror_mode": {
    "name": "ipython",
    "version": 3
   },
   "file_extension": ".py",
   "mimetype": "text/x-python",
   "name": "python",
   "nbconvert_exporter": "python",
   "pygments_lexer": "ipython3",
   "version": "3.8.10"
  },
  "orig_nbformat": 4
 },
 "nbformat": 4,
 "nbformat_minor": 2
}
